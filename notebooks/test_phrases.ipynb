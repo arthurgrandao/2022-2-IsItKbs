{
 "cells": [
  {
   "cell_type": "code",
   "execution_count": 1,
   "metadata": {},
   "outputs": [],
   "source": [
    "import os"
   ]
  },
  {
   "cell_type": "code",
   "execution_count": 4,
   "metadata": {},
   "outputs": [],
   "source": [
    "trained_model = os.path.dirname('../models/randomforest.pkl')\n",
    "vectorizer = os.path.dirname('../models/tfid_vectorizer.pkl')"
   ]
  },
  {
   "cell_type": "code",
   "execution_count": 17,
   "metadata": {},
   "outputs": [],
   "source": [
    "def kbs(\n",
    "    input_data, \n",
    "    analyzer='word', \n",
    "    model='randomForest'):\n",
    "    \"\"\" \n",
    "    Parâmetros:\n",
    "    input_data: dado de entrada representada por uma string\n",
    "    analyzer:\n",
    "        'word': análise de uma palavra (retorna positivo(1) ou negativo (0) se é keyboard smashing)\n",
    "        'phrases': retorna quais são os keyboardsmashing de uma frase de entrada\n",
    "    model: modelo de ML utilizado\n",
    "        randomForest\n",
    "\n",
    "    \"\"\"\n",
    "    if (model == 'randomForest'):\n",
    "        if (analyzer == 'word'):\n",
    "            if (len(input_data) == 1):\n",
    "                return 0\n",
    "            input_data = [input_data]\n",
    "            input_ngrams = []\n",
    "\n",
    "            for i in range(len(input_data)):\n",
    "                ngram = map(''.join, list(everygrams(input_data[i], 2, 4)))\n",
    "                input_ngrams.extend(ngram)\n",
    "\n",
    "            predprob = trained_model.predict_proba(\n",
    "                vectorizer.transform(input_ngrams))[:, 1]\n",
    "            prob = sum(predprob)/len(input_ngrams)\n",
    "            if (prob >= 0.5):\n",
    "                return 1\n",
    "            else:\n",
    "                return 0\n",
    "        elif (analyzer == 'phrases'):\n",
    "            if (len(input_data) == 1):\n",
    "                return \"Entrei no if\"\n",
    "            mashs = []\n",
    "            words = input_data.split()\n",
    "\n",
    "            for word in words:\n",
    "                if (len(word) == 1):\n",
    "                    words.remove(word)\n",
    "\n",
    "            for word in words:\n",
    "                input_ngrams = []\n",
    "                word = [word]\n",
    "                for char in word:\n",
    "                    ngram = map(''.join, list(everygrams(char, 2, 4)))\n",
    "                    input_ngrams.extend(ngram)\n",
    "                predprob = sum(trained_model.predict_proba(\n",
    "                    vectorizer.transform(input_ngrams))[:, 1])/len(input_ngrams)\n",
    "                if (predprob >= 0.5):\n",
    "                    mashs.append(word)\n",
    "            if (len(mashs) != 0):\n",
    "                return mashs\n",
    "        return 0"
   ]
  },
  {
   "cell_type": "code",
   "execution_count": 19,
   "metadata": {},
   "outputs": [
    {
     "data": {
      "text/plain": [
       "'Entrei no if'"
      ]
     },
     "execution_count": 19,
     "metadata": {},
     "output_type": "execute_result"
    }
   ],
   "source": [
    "kbs(input_data=\"a\", analyzer='phrases')"
   ]
  }
 ],
 "metadata": {
  "kernelspec": {
   "display_name": "Python 3",
   "language": "python",
   "name": "python3"
  },
  "language_info": {
   "codemirror_mode": {
    "name": "ipython",
    "version": 3
   },
   "file_extension": ".py",
   "mimetype": "text/x-python",
   "name": "python",
   "nbconvert_exporter": "python",
   "pygments_lexer": "ipython3",
   "version": "3.10.2"
  },
  "orig_nbformat": 4,
  "vscode": {
   "interpreter": {
    "hash": "38b444d0255ad8ae1b6474cf1705948d47c9a753211d06096071fba803b18e24"
   }
  }
 },
 "nbformat": 4,
 "nbformat_minor": 2
}
