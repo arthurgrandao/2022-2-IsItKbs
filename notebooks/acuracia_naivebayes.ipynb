{
 "cells": [
  {
   "cell_type": "code",
   "execution_count": 17,
   "metadata": {},
   "outputs": [],
   "source": [
    "from sklearn.metrics import accuracy_score, balanced_accuracy_score, f1_score, recall_score\n",
    "from sklearn.naive_bayes import MultinomialNB, ComplementNB, BernoulliNB\n",
    "from sklearn.model_selection import train_test_split\n",
    "import pandas as pd\n",
    "import numpy as np\n",
    "import pickle"
   ]
  },
  {
   "cell_type": "code",
   "execution_count": 18,
   "metadata": {},
   "outputs": [],
   "source": [
    "with open ('/home/arthurgrandao/Área de Trabalho/2022-2-IsItKbs/data/processed/ngrams_vectfeatures.pkl', \"rb\") as f1:\n",
    "    X = pickle.load(f1)\n",
    "\n",
    "with open ('/home/arthurgrandao/Área de Trabalho/2022-2-IsItKbs/data/processed/ngrams_target.csv', \"rb\") as f2:\n",
    "    Y = pd.read_csv(f2, keep_default_na=False).squeeze(1)\n",
    "\n",
    "with open ('/home/arthurgrandao/Área de Trabalho/2022-2-IsItKbs/models/tfid_vectorizer.pkl', \"rb\") as vec:\n",
    "    vectorizer = pickle.load(vec)"
   ]
  },
  {
   "cell_type": "code",
   "execution_count": 19,
   "metadata": {},
   "outputs": [],
   "source": [
    "X_train, X_test, Y_train, Y_test = train_test_split(X, Y, test_size=0.1, random_state=777)"
   ]
  },
  {
   "cell_type": "code",
   "execution_count": null,
   "metadata": {},
   "outputs": [],
   "source": [
    "## Modelos de Naive Bayes:\n",
    "\n",
    "model = MultinomialNB()\n",
    "\n",
    "# model = ComplementNB()\n",
    "\n",
    "# model = BernoulliNB()\n",
    "\n",
    "model.fit(X_train,Y_train)\n",
    "\n",
    "Y_pred = model.predict(X_test)\n",
    "\n",
    "## Testes de acurácia\n",
    "acc = accuracy_score(Y_test, Y_pred) \n",
    "score1 = balanced_accuracy_score(Y_test, Y_pred)\n",
    "score2 = f1_score(Y_test, Y_pred, labels=None, pos_label=0, average='binary', sample_weight=None, zero_division='warn')\n",
    "score3 = recall_score(Y_test, Y_pred, labels=None, pos_label=0, average='binary', sample_weight=None, zero_division='warn')\n",
    "\n",
    "print('Accuracy Score:', acc)\n",
    "print('Balanced Acc. Score:', score1)\n",
    "print('F1 Score:', score2)\n",
    "print('Recall Score:', score3)"
   ]
  },
  {
   "cell_type": "code",
   "execution_count": null,
   "metadata": {},
   "outputs": [],
   "source": [
    "\"\"\"\n",
    "=============== Resultados ================\n",
    "\n",
    "========= Multinomial Naive Bayes =========\n",
    "\n",
    "Accuracy Score:          0.8117445608380338\n",
    "Balanced Acc. Score:     0.8115942064274728\n",
    "F1 Score:                0.8216603053435114\n",
    "Recall Score:            0.8649055845721173\n",
    "\n",
    "========= Complement Naive Bayes ==========\n",
    "\n",
    "Accuracy Score:          0.8115934730056407\n",
    "Balanced Acc. Score:     0.8114426912759576\n",
    "F1 Score:                0.8215427181224061\n",
    "Recall Score:            0.8649055845721173\n",
    "\n",
    "========== Bernoulli Naive Bayes ==========\n",
    "\n",
    "Accuracy Score:          0.8140612409347301\n",
    "Balanced Acc. Score:     0.8139461306516349\n",
    "F1 Score:                0.8217458478176901\n",
    "Recall Score:            0.8547609481719566\n",
    "\n",
    "===========================================\n",
    "\"\"\""
   ]
  }
 ],
 "metadata": {
  "kernelspec": {
   "display_name": "Python 3",
   "language": "python",
   "name": "python3"
  },
  "language_info": {
   "codemirror_mode": {
    "name": "ipython",
    "version": 3
   },
   "file_extension": ".py",
   "mimetype": "text/x-python",
   "name": "python",
   "nbconvert_exporter": "python",
   "pygments_lexer": "ipython3",
   "version": "3.10.6"
  },
  "orig_nbformat": 4,
  "vscode": {
   "interpreter": {
    "hash": "916dbcbb3f70747c44a77c7bcd40155683ae19c65e1c03b4aa3499c5328201f1"
   }
  }
 },
 "nbformat": 4,
 "nbformat_minor": 2
}
