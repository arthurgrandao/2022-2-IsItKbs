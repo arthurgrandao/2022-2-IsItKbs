{
 "cells": [
  {
   "cell_type": "code",
   "execution_count": 19,
   "metadata": {},
   "outputs": [],
   "source": [
    "# Importação das bibliotecas necessárias\n",
    "\n",
    "from sklearn.tree import DecisionTreeClassifier, ExtraTreeClassifier\n",
    "from sklearn.feature_extraction.text import TfidfVectorizer\n",
    "import pickle\n",
    "import numpy as np\n",
    "import pandas as pd\n",
    "from sklearn.model_selection import train_test_split\n",
    "from sklearn.linear_model import LogisticRegression\n",
    "from sklearn.feature_extraction.text import CountVectorizer, HashingVectorizer\n",
    "from sklearn.metrics import confusion_matrix, accuracy_score\n",
    "from nltk.util import ngrams, everygrams\n",
    "import nltk, re, string, collections\n",
    "from sklearn.ensemble import ExtraTreesClassifier, RandomForestClassifier\n",
    "from sklearn.metrics import balanced_accuracy_score, f1_score, recall_score"
   ]
  },
  {
   "cell_type": "code",
   "execution_count": 20,
   "metadata": {},
   "outputs": [],
   "source": [
    "## Lendo e filtrando os dados:\n",
    "##OBS.: Troque o caminho de abrir os arquivos pelo caminho que eles estão no seu PC\n",
    "\n",
    "with open(\"..\\\\data\\\\raw\\\\mashing.txt\", \"r\", encoding=\"utf-8\") as g:\n",
    "    mashings = g.read()\n",
    "\n",
    "mashings = mashings.split(\"\\n\")\n",
    "\n",
    "for i in range(len(mashings)):\n",
    "    mashings[i] = mashings[i].strip()\n",
    "\n",
    "\n",
    "with open(\"..\\\\data\\\\raw\\\\large-2014.txt\", \"r\", encoding=\"utf-8\") as k:\n",
    "    naturals = k.read()\n",
    "\n",
    "naturals = naturals.split(\" \")\n",
    "\n",
    "for i in range(len(naturals)):\n",
    "    naturals[i] = naturals[i].strip()\n",
    "\n",
    "#Função para remoção de valores númericos e de pontuação das palavras \"comuns\" da base de dados      \n",
    "naturals = list(filter(lambda token: token not in string.punctuation and token.isalpha(), naturals))\n",
    "\n",
    "#Definição de duas séries de dados, uma com as palavras que são mashing e outra com as palavras naturais.\n",
    "# Ambas para serem transformadas em ngramas posteriormente\n",
    "X0 = pd.Series(naturals)\n",
    "X1 = pd.Series(mashings)"
   ]
  },
  {
   "cell_type": "code",
   "execution_count": 21,
   "metadata": {},
   "outputs": [],
   "source": [
    "#Percorre as palavras naturais e transforma em ngramas\n",
    "natbigrams = []\n",
    "for row in range (len(X0)):\n",
    "    ngram = map(''.join,list(everygrams(X0.iloc[row], 2, 4)))\n",
    "    natbigrams.extend(ngram)\n",
    "\n",
    "#Esse print comentado mostra todos os bigramas naturais\n",
    "# print(natbigrams)\n",
    "\n",
    "#Contagem da frequência de cada ngrama, printar essa variável mostra esses valores\n",
    "natf = collections.Counter(natbigrams)\n",
    "\n",
    "#Percorre os mashings e transforma em ngramas\n",
    "mashbigrams = []\n",
    "for row in range (len(X1)):\n",
    "    ngram = map(''.join,list(everygrams(X1.iloc[row], 2, 4)))\n",
    "    mashbigrams.extend(ngram)\n",
    "\n",
    "#Esse print comentado mostra todos os bigramas de mashing\n",
    "# print(mashbigrams)\n",
    "\n",
    "#Diminui os dados de mashing para ficarem no mesmo tamanho que os de linguagem natural \n",
    "mashbigrams = mashbigrams[:len(natbigrams)]\n",
    "\n",
    "#Contagem da frequência de cada ngrama, printar essa variável mostra esses valores\n",
    "mashf = collections.Counter(mashbigrams)\n",
    "\n",
    "#Cria um novo df somente com ngramas e separa as features (X) e os targets (Y)\n",
    "mashdf = pd.DataFrame({'strings':mashbigrams + natbigrams, 'mashing': [1] * len(mashbigrams) + [0] * len(natbigrams)})\n",
    "X = mashdf['strings']\n",
    "Y = mashdf['mashing']"
   ]
  },
  {
   "cell_type": "code",
   "execution_count": 22,
   "metadata": {},
   "outputs": [],
   "source": [
    "#Separação da base de dados em treino e teste\n",
    "X_train, X_test, Y_train, Y_test = train_test_split(X, Y, test_size=0.1, random_state=777)\n",
    "\n",
    "#Diferentes algoritmos para vetorização dos ngramas, para usar um só comentar os demais\n",
    "vectorizer = TfidfVectorizer(\n",
    "                            lowercase=True,\n",
    "                            analyzer='char',\n",
    "                            binary=True,\n",
    "                            strip_accents=\"unicode\")\n",
    "\n",
    "# vectorizer = CountVectorizer (lowercase = True,\n",
    "#                               analyzer = 'char_wb',\n",
    "#                               binary = False,\n",
    "#                               strip_accents = \"unicode\")\n",
    "\n",
    "# vectorizer = HashingVectorizer (\n",
    "#                               lowercase = True,\n",
    "#                               analyzer = 'char',\n",
    "#                               binary = True,\n",
    "#                               strip_accents = \"unicode\")\n",
    "\n",
    "#Os índices dos dados de teste são resetados para a contagem começar a partir do 0\n",
    "X_test = X_test.reset_index()['strings']\n",
    "Y_test = Y_test.reset_index()['mashing']\n",
    "\n",
    "#Os ngramas são propriamente vetorizados para poderem ser alimentados ao algoritmo\n",
    "X_train = vectorizer.fit_transform(X_train)\n",
    "X_test = vectorizer.transform(X_test)"
   ]
  },
  {
   "cell_type": "code",
   "execution_count": 23,
   "metadata": {},
   "outputs": [
    {
     "data": {
      "text/html": [
       "<style>#sk-container-id-2 {color: black;background-color: white;}#sk-container-id-2 pre{padding: 0;}#sk-container-id-2 div.sk-toggleable {background-color: white;}#sk-container-id-2 label.sk-toggleable__label {cursor: pointer;display: block;width: 100%;margin-bottom: 0;padding: 0.3em;box-sizing: border-box;text-align: center;}#sk-container-id-2 label.sk-toggleable__label-arrow:before {content: \"▸\";float: left;margin-right: 0.25em;color: #696969;}#sk-container-id-2 label.sk-toggleable__label-arrow:hover:before {color: black;}#sk-container-id-2 div.sk-estimator:hover label.sk-toggleable__label-arrow:before {color: black;}#sk-container-id-2 div.sk-toggleable__content {max-height: 0;max-width: 0;overflow: hidden;text-align: left;background-color: #f0f8ff;}#sk-container-id-2 div.sk-toggleable__content pre {margin: 0.2em;color: black;border-radius: 0.25em;background-color: #f0f8ff;}#sk-container-id-2 input.sk-toggleable__control:checked~div.sk-toggleable__content {max-height: 200px;max-width: 100%;overflow: auto;}#sk-container-id-2 input.sk-toggleable__control:checked~label.sk-toggleable__label-arrow:before {content: \"▾\";}#sk-container-id-2 div.sk-estimator input.sk-toggleable__control:checked~label.sk-toggleable__label {background-color: #d4ebff;}#sk-container-id-2 div.sk-label input.sk-toggleable__control:checked~label.sk-toggleable__label {background-color: #d4ebff;}#sk-container-id-2 input.sk-hidden--visually {border: 0;clip: rect(1px 1px 1px 1px);clip: rect(1px, 1px, 1px, 1px);height: 1px;margin: -1px;overflow: hidden;padding: 0;position: absolute;width: 1px;}#sk-container-id-2 div.sk-estimator {font-family: monospace;background-color: #f0f8ff;border: 1px dotted black;border-radius: 0.25em;box-sizing: border-box;margin-bottom: 0.5em;}#sk-container-id-2 div.sk-estimator:hover {background-color: #d4ebff;}#sk-container-id-2 div.sk-parallel-item::after {content: \"\";width: 100%;border-bottom: 1px solid gray;flex-grow: 1;}#sk-container-id-2 div.sk-label:hover label.sk-toggleable__label {background-color: #d4ebff;}#sk-container-id-2 div.sk-serial::before {content: \"\";position: absolute;border-left: 1px solid gray;box-sizing: border-box;top: 0;bottom: 0;left: 50%;z-index: 0;}#sk-container-id-2 div.sk-serial {display: flex;flex-direction: column;align-items: center;background-color: white;padding-right: 0.2em;padding-left: 0.2em;position: relative;}#sk-container-id-2 div.sk-item {position: relative;z-index: 1;}#sk-container-id-2 div.sk-parallel {display: flex;align-items: stretch;justify-content: center;background-color: white;position: relative;}#sk-container-id-2 div.sk-item::before, #sk-container-id-2 div.sk-parallel-item::before {content: \"\";position: absolute;border-left: 1px solid gray;box-sizing: border-box;top: 0;bottom: 0;left: 50%;z-index: -1;}#sk-container-id-2 div.sk-parallel-item {display: flex;flex-direction: column;z-index: 1;position: relative;background-color: white;}#sk-container-id-2 div.sk-parallel-item:first-child::after {align-self: flex-end;width: 50%;}#sk-container-id-2 div.sk-parallel-item:last-child::after {align-self: flex-start;width: 50%;}#sk-container-id-2 div.sk-parallel-item:only-child::after {width: 0;}#sk-container-id-2 div.sk-dashed-wrapped {border: 1px dashed gray;margin: 0 0.4em 0.5em 0.4em;box-sizing: border-box;padding-bottom: 0.4em;background-color: white;}#sk-container-id-2 div.sk-label label {font-family: monospace;font-weight: bold;display: inline-block;line-height: 1.2em;}#sk-container-id-2 div.sk-label-container {text-align: center;}#sk-container-id-2 div.sk-container {/* jupyter's `normalize.less` sets `[hidden] { display: none; }` but bootstrap.min.css set `[hidden] { display: none !important; }` so we also need the `!important` here to be able to override the default hidden behavior on the sphinx rendered scikit-learn.org. See: https://github.com/scikit-learn/scikit-learn/issues/21755 */display: inline-block !important;position: relative;}#sk-container-id-2 div.sk-text-repr-fallback {display: none;}</style><div id=\"sk-container-id-2\" class=\"sk-top-container\"><div class=\"sk-text-repr-fallback\"><pre>RandomForestClassifier()</pre><b>In a Jupyter environment, please rerun this cell to show the HTML representation or trust the notebook. <br />On GitHub, the HTML representation is unable to render, please try loading this page with nbviewer.org.</b></div><div class=\"sk-container\" hidden><div class=\"sk-item\"><div class=\"sk-estimator sk-toggleable\"><input class=\"sk-toggleable__control sk-hidden--visually\" id=\"sk-estimator-id-2\" type=\"checkbox\" checked><label for=\"sk-estimator-id-2\" class=\"sk-toggleable__label sk-toggleable__label-arrow\">RandomForestClassifier</label><div class=\"sk-toggleable__content\"><pre>RandomForestClassifier()</pre></div></div></div></div></div>"
      ],
      "text/plain": [
       "RandomForestClassifier()"
      ]
     },
     "execution_count": 23,
     "metadata": {},
     "output_type": "execute_result"
    }
   ],
   "source": [
    "## Treinando o modelo (Diferentes modelos estão comentados, para testar só descomentar um e comentar os outros):\n",
    "\n",
    "# model = LogisticRegression()\n",
    "\n",
    "# model = DecisionTreeClassifier()\n",
    "\n",
    "# model = ExtraTreeClassifier()\n",
    "\n",
    "# model = ExtraTreesClassifier()\n",
    "\n",
    "model = RandomForestClassifier()\n",
    "\n",
    "model.fit(X_train,Y_train)"
   ]
  },
  {
   "cell_type": "code",
   "execution_count": 24,
   "metadata": {},
   "outputs": [
    {
     "name": "stdout",
     "output_type": "stream",
     "text": [
      "Acc: 0.8740256724932833\n",
      "Acc: 0.8738086742810296\n",
      "Acc: 0.8799468959413327\n",
      "Acc: 0.9189278404964679\n"
     ]
    }
   ],
   "source": [
    "#Diferentes métricas para avalização da eficácia do modelo com a base de dados usada pra teste\n",
    "\n",
    "Y_pred = model.predict(X_test)\n",
    "\n",
    "acc = accuracy_score(Y_test, Y_pred) ##0.985\n",
    "print('Acc:', acc)\n",
    "\n",
    "score1 = balanced_accuracy_score(Y_test, Y_pred)\n",
    "\n",
    "print('Acc:', score1)\n",
    "\n",
    "score2 = f1_score(Y_test, Y_pred, labels=None, pos_label=0, average='binary', sample_weight=None, zero_division='warn')\n",
    "\n",
    "print('Acc:', score2)\n",
    "\n",
    "score3 = recall_score(Y_test, Y_pred, labels=None, pos_label=0, average='binary', sample_weight=None, zero_division='warn')\n",
    "\n",
    "print('Acc:', score3)"
   ]
  },
  {
   "cell_type": "code",
   "execution_count": 35,
   "metadata": {},
   "outputs": [
    {
     "name": "stdout",
     "output_type": "stream",
     "text": [
      "['mi', 'mig', 'migh', 'ig', 'igh', 'ight', 'gh', 'ght', 'ht'] \n",
      " [0 0 0 0 0 0 0 0 0] \n",
      " [0.26733171 0.4871605  0.02       0.25443239 0.0619262  0.00633842\n",
      " 0.30196793 0.02156325 0.03668156]\n",
      "0\n",
      "16.193%\n"
     ]
    }
   ],
   "source": [
    "# Input para o algoritmo advinhar se é ks ou não:\n",
    "input_data = [(input(\"\"))]\n",
    "\n",
    "#Processo de extração dos ngramas e tokenização do input\n",
    "input_ngrams = []\n",
    "for i in range (len(input_data)):\n",
    "    ngram = map(''.join,list(everygrams(input_data[i], 2, 4)))\n",
    "    input_ngrams.extend(ngram)\n",
    "\n",
    "#Entrega das features ao modelo para ele adivinhar qual a classe se encaixaria melhor (1 = mashing)\n",
    "#Para cada ngrama da palavra o algoritmo vai emitir uma classificação, uma mesma palavra pode ter ngramas de keyboard smashing e de palavras \"normais\"\n",
    "pred = model.predict(vectorizer.transform(input_ngrams))\n",
    "\n",
    "#É calculada a média da chance de ser keyboard smashing de todos os ngramas da palavra\n",
    "predprob = model.predict_proba(vectorizer.transform(input_ngrams))[:,1]\n",
    "prob = sum(predprob)/len(input_ngrams) * 100\n",
    "\n",
    "#Esse print comentado mostra todos os ngramas formados da palavra e a probabilidade de ks de cada um deles\n",
    "print(input_ngrams,'\\n',pred,'\\n', predprob)\n",
    "\n",
    "# Se a probabilidade for maior que 50% a palavra é considera ks e a probabilidade é mostrada\n",
    "if (prob >= 50):\n",
    "    print (1)\n",
    "    print(f\"{prob:.3f}%\")\n",
    "else:\n",
    "    print (0)\n",
    "    print(f\"{prob:.3f}%\")\n"
   ]
  },
  {
   "cell_type": "code",
   "execution_count": 36,
   "metadata": {},
   "outputs": [
    {
     "name": "stdout",
     "output_type": "stream",
     "text": [
      "['mi', 'mig', 'migh', 'ig', 'igh', 'ight', 'gh', 'ght', 'ht'] \n",
      " [0 0 0 0 0 0 0 0 0] \n",
      " [0.26733171 0.4871605  0.02       0.25443239 0.0619262  0.00633842\n",
      " 0.30196793 0.02156325 0.03668156]\n",
      "0\n",
      "16.193%\n"
     ]
    }
   ],
   "source": [
    "# Input para o algoritmo advinhar se é ks ou não:\n",
    "input_data = (input(\"\"))\n",
    "\n",
    "\n",
    "words = [input_data.split()]\n",
    "\n",
    "# Processo de extração dos ngramas e tokenização do input\n",
    "input_ngrams = []\n",
    "for word in words:\n",
    "    for char in word:\n",
    "        ngram = map(''.join,list(everygrams(char, 2, 4)))\n",
    "        input_ngrams.extend(ngram)\n",
    "\n",
    "#Entrega das features ao modelo para ele adivinhar qual a classe se encaixaria melhor (1 = mashing)\n",
    "#Para cada ngrama da palavra o algoritmo vai emitir uma classificação, uma mesma palavra pode ter ngramas de keyboard smashing e de palavras \"normais\"\n",
    "pred = model.predict(vectorizer.transform(input_ngrams))\n",
    "\n",
    "#É calculada a média da chance de ser keyboard smashing de todos os ngramas da palavra\n",
    "predprob = model.predict_proba(vectorizer.transform(input_ngrams))[:,1]\n",
    "# prob = sum(predprob)/len(input_ngrams) * 100\n",
    "\n",
    "#Esse print comentado mostra todos os ngramas formados da palavra e a probabilidade de ks de cada um deles\n",
    "print(input_ngrams,'\\n',pred,'\\n', predprob)\n",
    "\n",
    "for p in predprob:\n",
    "    if (p > 0.7):\n",
    "        p *= 2\n",
    "prob = sum(predprob)/len(input_ngrams) * 100\n",
    "\n",
    "# Se a probabilidade for maior que 50% a palavra é considera ks e a probabilidade é mostrada\n",
    "if (prob >= 50):\n",
    "    print (1)\n",
    "    print(f\"{prob:.3f}%\")\n",
    "else:\n",
    "    print (0)\n",
    "    print(f\"{prob:.3f}%\")\n"
   ]
  }
 ],
 "metadata": {
  "kernelspec": {
   "display_name": "Python 3",
   "language": "python",
   "name": "python3"
  },
  "language_info": {
   "codemirror_mode": {
    "name": "ipython",
    "version": 3
   },
   "file_extension": ".py",
   "mimetype": "text/x-python",
   "name": "python",
   "nbconvert_exporter": "python",
   "pygments_lexer": "ipython3",
   "version": "3.11.0"
  },
  "orig_nbformat": 4,
  "vscode": {
   "interpreter": {
    "hash": "cf65da47a4807dcb513989982c33b6f6915ec1b2a00fbe8724e167a145316774"
   }
  }
 },
 "nbformat": 4,
 "nbformat_minor": 2
}
