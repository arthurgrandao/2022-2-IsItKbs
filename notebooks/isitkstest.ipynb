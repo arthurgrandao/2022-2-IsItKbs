{
 "cells": [
  {
   "cell_type": "code",
   "execution_count": 781,
   "metadata": {},
   "outputs": [],
   "source": [
    "# Importação das bibliotecas necessárias\n",
    "\n",
    "from sklearn.tree import DecisionTreeClassifier, ExtraTreeClassifier\n",
    "from sklearn.feature_extraction.text import TfidfVectorizer\n",
    "import pickle\n",
    "import numpy as np\n",
    "import pandas as pd\n",
    "from sklearn.model_selection import train_test_split\n",
    "from sklearn.linear_model import LogisticRegression\n",
    "from sklearn.feature_extraction.text import CountVectorizer, HashingVectorizer\n",
    "from sklearn.metrics import confusion_matrix, accuracy_score\n",
    "from nltk.util import ngrams\n",
    "import nltk, re, string, collections\n",
    "from sklearn.ensemble import ExtraTreesClassifier, RandomForestClassifier\n",
    "from sklearn.metrics import balanced_accuracy_score, f1_score, recall_score"
   ]
  },
  {
   "cell_type": "code",
   "execution_count": 805,
   "metadata": {},
   "outputs": [],
   "source": [
    "## Lendo e filtrando os dados:\n",
    "\n",
    "txt = \"\"\n",
    "with open(\"C:\\\\Users\\\\dougl\\\\Documents\\\\UNB\\MDS\\\\2022-2-Squad03\\\\data\\\\raw\\\\mashing.txt\", \"r\", encoding=\"utf-8\") as g:\n",
    "    txt = g.read()\n",
    "\n",
    "mashings = txt.split(\"\\n\")\n",
    "\n",
    "for i in range(len(mashings)):\n",
    "    mashings[i] = mashings[i].strip()\n",
    "\n",
    "texto = \"\"\n",
    "with open(\"C:\\\\Users\\\\dougl\\\\Documents\\\\UNB\\MDS\\\\2022-2-Squad03\\\\data\\\\raw\\\\large-2014.txt\", \"r\", encoding=\"utf-8\") as k:\n",
    "    texto = k.read()\n",
    "\n",
    "naturals = texto.split(\" \")\n",
    "\n",
    "for i in range(len(naturals)):\n",
    "    naturals[i] = naturals[i].strip()\n",
    "\n",
    "#Função para remoção de valores númericos e de pontuação das palavras \"comuns\" da base de dados      \n",
    "naturals = list(filter(lambda token: token not in string.punctuation and token.isalpha(), naturals))\n",
    "\n",
    "#Definição de duas séries de dados, uma com as palavras que são mashing e outra com as palavras naturais.\n",
    "# Ambas para serem transformadas em ngramas posteriormente\n",
    "X0 = pd.Series(naturals)\n",
    "X1 = pd.Series(mashings)"
   ]
  },
  {
   "cell_type": "code",
   "execution_count": 807,
   "metadata": {},
   "outputs": [],
   "source": [
    "#Separação da base de dados em treino e teste\n",
    "X_train, X_test, Y_train, Y_test = train_test_split(X, Y, test_size=0.1, random_state=777)\n",
    "\n",
    "#Diferentes algoritmos para vetorização dos ngramas, para usar um só comentar os demais\n",
    "vectorizer = TfidfVectorizer(\n",
    "                            lowercase=True,\n",
    "                            analyzer='char',\n",
    "                            binary=True,\n",
    "                            strip_accents=\"unicode\")\n",
    "\n",
    "# vectorizer = CountVectorizer (lowercase = True,\n",
    "#                               analyzer = 'char_wb',\n",
    "#                               binary = False,\n",
    "#                               strip_accents = \"unicode\")\n",
    "\n",
    "# vectorizer = HashingVectorizer (\n",
    "#                               lowercase = True,\n",
    "#                               analyzer = 'char',\n",
    "#                               binary = True,\n",
    "#                               strip_accents = \"unicode\")\n",
    "\n",
    "#Os índices dos dados de teste são resetados para a contagem começar a partir do 0\n",
    "X_test = X_test.reset_index()['strings']\n",
    "Y_test = Y_test.reset_index()['mashing']\n",
    "\n",
    "#Os ngramas são propriamente vetorizados para poderem ser alimentados ao algoritmo\n",
    "X_train = vectorizer.fit_transform(X_train)\n",
    "X_test = vectorizer.transform(X_test)"
   ]
  },
  {
   "cell_type": "code",
   "execution_count": 806,
   "metadata": {},
   "outputs": [
    {
     "data": {
      "text/plain": [
       "99276"
      ]
     },
     "execution_count": 806,
     "metadata": {},
     "output_type": "execute_result"
    }
   ],
   "source": [
    "#Percorre as palavras naturais e transforma em ngramas\n",
    "natbigrams = []\n",
    "for row in range (len(X0)):\n",
    "    ngram = map(''.join,list(everygrams(X0.iloc[row], 2, 4)))\n",
    "    natbigrams.extend(ngram)\n",
    "\n",
    "#Esse print comentado mostra todos os bigramas naturais\n",
    "# print(natbigrams)\n",
    "\n",
    "#Contagem da frequência de cada ngrama, printar essa variável mostra esses valores\n",
    "natf = collections.Counter(natbigrams)\n",
    "\n",
    "#Percorre os mashings e transforma em ngramas\n",
    "mashbigrams = []\n",
    "for row in range (len(X1)):\n",
    "    ngram = map(''.join,list(everygrams(X1.iloc[row], 2, 4)))\n",
    "    mashbigrams.extend(ngram)\n",
    "\n",
    "#Esse print comentado mostra todos os bigramas de mashing\n",
    "# print(mashbigrams)\n",
    "\n",
    "#Diminui os dados de mashing para ficarem no mesmo tamanho que os de linguagem natural \n",
    "mashbigrams = mashbigrams[:len(natbigrams)]\n",
    "\n",
    "#Contagem da frequência de cada ngrama, printar essa variável mostra esses valores\n",
    "mashf = collections.Counter(mashbigrams)\n",
    "\n",
    "#Cria um novo df somente com ngramas e separa as features (X) e os targets (Y)\n",
    "mashdf = pd.DataFrame({'strings':mashbigrams + natbigrams, 'mashing': [1] * len(mashbigrams) + [0] * len(natbigrams)})\n",
    "X = mashdf['strings']\n",
    "Y = mashdf['mashing']"
   ]
  },
  {
   "cell_type": "code",
   "execution_count": 808,
   "metadata": {},
   "outputs": [
    {
     "data": {
      "text/plain": [
       "RandomForestClassifier()"
      ]
     },
     "execution_count": 808,
     "metadata": {},
     "output_type": "execute_result"
    }
   ],
   "source": [
    "## Treinando o modelo (Diferentes modelos estão comentados, para testar só descomentar um e comentar os outros):\n",
    "\n",
    "# model = LogisticRegression()\n",
    "\n",
    "# model = DecisionTreeClassifier()\n",
    "\n",
    "# model = ExtraTreeClassifier()\n",
    "\n",
    "# model = ExtraTreesClassifier()\n",
    "\n",
    "model = RandomForestClassifier()\n",
    "\n",
    "model.fit(X_train,Y_train)"
   ]
  },
  {
   "cell_type": "code",
   "execution_count": 809,
   "metadata": {},
   "outputs": [
    {
     "name": "stdout",
     "output_type": "stream",
     "text": [
      "Acc: 0.8785757453666398\n",
      "Acc: 0.8784635629091233\n",
      "Acc: 0.8834984295723605\n",
      "Acc: 0.918240257131378\n"
     ]
    }
   ],
   "source": [
    "#Diferentes métricas para avalização da eficácia do modelo com a base de dados usada pra teste\n",
    "\n",
    "Y_pred = model.predict(X_test)\n",
    "\n",
    "acc = accuracy_score(Y_test, Y_pred) ##0.985\n",
    "print('Acc:', acc)\n",
    "\n",
    "score1 = balanced_accuracy_score(Y_test, Y_pred)\n",
    "\n",
    "print('Acc:', score1)\n",
    "\n",
    "score2 = f1_score(Y_test, Y_pred, labels=None, pos_label=0, average='binary', sample_weight=None, zero_division='warn')\n",
    "\n",
    "print('Acc:', score2)\n",
    "\n",
    "score3 = recall_score(Y_test, Y_pred, labels=None, pos_label=0, average='binary', sample_weight=None, zero_division='warn')\n",
    "\n",
    "print('Acc:', score3)"
   ]
  },
  {
   "cell_type": "code",
   "execution_count": 825,
   "metadata": {},
   "outputs": [
    {
     "name": "stdout",
     "output_type": "stream",
     "text": [
      "1\n",
      "96.727%\n"
     ]
    }
   ],
   "source": [
    "# Input para o algoritmo advinhar se é ks ou não:\n",
    "input_data = [(input(\"\"))]\n",
    "\n",
    "#Processo de extração dos ngramas e tokenização do input\n",
    "input_ngrams = []\n",
    "for i in range (len(input_data)):\n",
    "    ngram = map(''.join,list(everygrams(input_data[i], 2, 4)))\n",
    "    input_ngrams.extend(ngram)\n",
    "\n",
    "#Entrega das features ao modelo para ele adivinhar qual a classe se encaixaria melhor (1 = mashing)\n",
    "#Para cada ngrama da palavra o algoritmo vai emitir uma classificação, uma mesma palavra pode ter ngramas de keyboard smashing e de palavras \"normais\"\n",
    "pred = model.predict(vectorizer.transform(input_ngrams))\n",
    "\n",
    "#É calculada a média da chance de ser keyboard smashing de todos os ngramas da palavra\n",
    "predprob = model.predict_proba(vectorizer.transform(input_ngrams))[:,1]\n",
    "prob = sum(predprob)/len(input_ngrams) * 100\n",
    "\n",
    "#Esse print comentado mostra todos os ngramas formados da palavra e a probabilidade de ks de cada um deles\n",
    "# print(input_ngrams,'\\n',pred,'\\n', prob)\n",
    "\n",
    "# Se a probabilidade for maior que 50% a palavra é considera ks e a probabilidade é mostrada\n",
    "if (prob >= 50):\n",
    "    print (1)\n",
    "    print(f\"{prob:.3f}%\")\n",
    "else:\n",
    "    print (0)\n",
    "    print(f\"{prob:.3f}%\")\n"
   ]
  }
 ],
 "metadata": {
  "kernelspec": {
   "display_name": "Python 3",
   "language": "python",
   "name": "python3"
  },
  "language_info": {
   "codemirror_mode": {
    "name": "ipython",
    "version": 3
   },
   "file_extension": ".py",
   "mimetype": "text/x-python",
   "name": "python",
   "nbconvert_exporter": "python",
   "pygments_lexer": "ipython3",
   "version": "3.10.2"
  },
  "orig_nbformat": 4,
  "vscode": {
   "interpreter": {
    "hash": "38b444d0255ad8ae1b6474cf1705948d47c9a753211d06096071fba803b18e24"
   }
  }
 },
 "nbformat": 4,
 "nbformat_minor": 2
}
