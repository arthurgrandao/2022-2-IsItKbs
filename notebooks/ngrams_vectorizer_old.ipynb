{
 "cells": [
  {
   "cell_type": "code",
   "execution_count": null,
   "metadata": {},
   "outputs": [],
   "source": [
    "from sklearn.feature_extraction.text import TfidfVectorizer\n",
    "import pandas as pd\n",
    "import pickle\n",
    "\n",
    "with open (\".\\\\data\\\\interim\\\\ngrams_features.csv\", \"r\", encoding = \"utf-8\") as file0:\n",
    "    X = pd.read_csv(file0, keep_default_na=False).squeeze(1)\n",
    "\n",
    "vectorizer = TfidfVectorizer(\n",
    "                            lowercase=True,\n",
    "                            analyzer='char',\n",
    "                            binary=True,\n",
    "                            strip_accents=\"unicode\")\n",
    "\n",
    "#Os ngramas são propriamente vetorizados para poderem ser alimentados ao algoritmo\n",
    "X_train = vectorizer.fit_transform(X)\n",
    "\n",
    "#Exportação dos dados vetorizados como um pickle\n",
    "with open('.\\\\data\\\\processed\\\\ngrams_vectfeatures.pkl', 'wb') as file:  \n",
    "    pickle.dump(X_train, file)\n",
    "\n",
    "#Exportação do vetorizador\n",
    "with open('.\\\\models\\\\tfid_vectorizer.pkl', 'wb') as file1:  \n",
    "    pickle.dump(vectorizer, file1)"
   ]
  }
 ],
 "metadata": {
  "language_info": {
   "name": "python"
  },
  "orig_nbformat": 4
 },
 "nbformat": 4,
 "nbformat_minor": 2
}
