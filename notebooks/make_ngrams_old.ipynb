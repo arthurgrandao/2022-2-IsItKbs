{
 "cells": [
  {
   "cell_type": "code",
   "execution_count": null,
   "metadata": {},
   "outputs": [],
   "source": [
    "import pandas as pd\n",
    "from nltk import everygrams\n",
    "\n",
    "with open (\".\\\\data\\\\interim\\\\naturals.csv\", \"r\", encoding=\"utf-8\") as file0:\n",
    "    X0 = pd.read_csv(file0, keep_default_na=False).squeeze(1)\n",
    "\n",
    "with open (\".\\\\data\\\\interim\\\\mashings.csv\", \"r\", encoding=\"utf-8\") as file1:\n",
    "    X1 = pd.read_csv(file1, keep_default_na=False).squeeze(1)\n",
    "\n",
    "#Percorre as palavras naturais e transforma em ngramas\n",
    "natbigrams = []\n",
    "for row in range (len(X0)):\n",
    "    ngram = map(''.join,list(everygrams(X0.iloc[row], 2, 4)))\n",
    "    natbigrams.extend(ngram)\n",
    "\n",
    "#Percorre os mashings e transforma em ngramas\n",
    "mashbigrams = []\n",
    "for row in range (len(X1)):\n",
    "    ngram = map(''.join,list(everygrams(X1.iloc[row], 2, 4)))\n",
    "    mashbigrams.extend(ngram)\n",
    "\n",
    "# #Diminui os dados de mashing para ficarem no mesmo tamanho que os de linguagem natural \n",
    "mashbigrams = mashbigrams[:len(natbigrams)]\n",
    "\n",
    "#Cria um novo df somente com ngramas e separa as features (X) e os targets (Y)\n",
    "mashdf = pd.DataFrame({'strings':mashbigrams + natbigrams, 'mashing': [1] * len(mashbigrams) + [0] * len(natbigrams)})\n",
    "X = mashdf['strings']\n",
    "Y = mashdf['mashing']\n",
    "X.to_csv(\".\\\\data\\\\interim\\\\ngrams_features.csv\", index = False)\n",
    "Y.to_csv(\".\\\\data\\\\processed\\\\ngrams_target.csv\", index = False)"
   ]
  }
 ],
 "metadata": {
  "kernelspec": {
   "display_name": "Python 3",
   "language": "python",
   "name": "python3"
  },
  "language_info": {
   "name": "python",
   "version": "3.10.2"
  },
  "orig_nbformat": 4,
  "vscode": {
   "interpreter": {
    "hash": "38b444d0255ad8ae1b6474cf1705948d47c9a753211d06096071fba803b18e24"
   }
  }
 },
 "nbformat": 4,
 "nbformat_minor": 2
}
