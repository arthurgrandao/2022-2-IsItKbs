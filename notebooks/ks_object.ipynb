{
 "cells": [
  {
   "cell_type": "code",
   "execution_count": 1089,
   "metadata": {},
   "outputs": [],
   "source": [
    "import pickle\n",
    "import os\n",
    "from nltk import everygrams, ngrams, word_tokenize, FreqDist\n",
    "\n",
    "#modelpath = os.path.join(os.path.dirname(os.path.dirname(__file__)), 'models/randomforest.pkl')\n",
    "#vectpath = os.path.join(os.path.dirname(os.path.dirname(__file__)), 'models/tfid_vectorizer.pkl')\n",
    "modelpath = os.path.dirname('../models/randomforest.pkl')\n",
    "vectpath = os.path.dirname('../models/tfid_vectorizer.pkl')"
   ]
  },
  {
   "cell_type": "code",
   "execution_count": 1090,
   "metadata": {},
   "outputs": [],
   "source": [
    "#trained_model = pickle.load(open(modelpath, 'rb'))\n",
    "#vectorizer = pickle.load(open(vectpath, 'rb'))"
   ]
  },
  {
   "cell_type": "code",
   "execution_count": 1091,
   "metadata": {},
   "outputs": [],
   "source": [
    "import matplotlib.pyplot as plt\n",
    "import re\n",
    "import pandas as pd"
   ]
  },
  {
   "cell_type": "code",
   "execution_count": 1092,
   "metadata": {},
   "outputs": [],
   "source": [
    "class isitkbs(object):\n",
    "    \n",
    "    def __init__(self, model = 'randomforest'):\n",
    "        self.model = model\n",
    "    #Especifica qual modelo deve ser utilizado\n",
    "    #Por padrão, usa-se o randomForest\n",
    "    \n",
    "    #Função para determinar se uma palavra é keyboardsmashing\n",
    "    #A entrada deve ser uma palavra\n",
    "    def is_word_kbs(self, input_data):\n",
    "        #input_data = self.input_data\n",
    "        \n",
    "        with open(f'../models/{self.model}.pkl', 'rb') as f:\n",
    "            trained_model = pickle.load(f)\n",
    "    \n",
    "        with open('../models/tfid_vectorizer.pkl', 'rb') as r:\n",
    "            vectorizer = pickle.load(r)\n",
    "        \n",
    "        if (len(input_data) == 1):\n",
    "            return 0\n",
    "        input_data = [input_data]\n",
    "        input_ngrams = []\n",
    "\n",
    "        for i in range(len(input_data)):\n",
    "            ngram = map(''.join, list(everygrams(input_data[i], 2, 4)))\n",
    "            input_ngrams.extend(ngram)\n",
    "\n",
    "        predprob = trained_model.predict_proba(\n",
    "            vectorizer.transform(input_ngrams))[:, 1]\n",
    "            \n",
    "        prob = sum(predprob)/len(input_ngrams)\n",
    "        if (prob >= 0.5):\n",
    "            return 1\n",
    "        else:\n",
    "            return 0\n",
    "    \n",
    "    #Função para determinar quais são os keyboard smashing em uma frase \n",
    "    #A entrada deve ser uma string ou uma lista de palavras    \n",
    "    def is_sent_kbs(self, input_data):\n",
    "        if(type(input_data) == list):\n",
    "            input_data = ' '.join(input_data)\n",
    "        \n",
    "        mashs = []\n",
    "        \n",
    "        \"\"\" if (len(input_data) == 1):\n",
    "            return mashs \"\"\"\n",
    "        \n",
    "        words = input_data.split()\n",
    "        \n",
    "        for word in words:\n",
    "            res = self.is_word_kbs(word)\n",
    "            if res == 1:\n",
    "                mashs.append(word)\n",
    "        \n",
    "        return mashs\n",
    "    \n",
    "    #Função que mostra a frequência de caracteres em keyboard smashing\n",
    "    #A entrada deve ser uma string ou uma lista de string\n",
    "    def freqkbs(self, input_data, graph = 0):\n",
    "        \n",
    "        cont_char = {}\n",
    "        \n",
    "        data = self.is_sent_kbs(input_data)\n",
    "        data = ' '.join(data)\n",
    "        \n",
    "        if(len(data) != 0):\n",
    "            data = re.sub(r'[^\\w\\s]','',data)\n",
    "            sing_char = set(data)\n",
    "            \n",
    "            for i in sing_char:\n",
    "                cont_char[i] = data.count(i)\n",
    "            \n",
    "            cont_char = dict(sorted(cont_char.items()))\n",
    "            \n",
    "            #Plota gráfico se graph = 1 na chamda da função\n",
    "            if(graph==1):\n",
    "                self.__freqgraph(cont_char)\n",
    "            \n",
    "            try:\n",
    "                del cont_char[' ']\n",
    "            except:\n",
    "                return cont_char\n",
    "        \n",
    "        return cont_char\n",
    "    \n",
    "    def __freqgraph(self, cont_char):\n",
    "        #Determina eixo x e eixo y\n",
    "        x_axis = list(cont_char.keys())\n",
    "        y_axis = list(cont_char.values())\n",
    "        \n",
    "        #Nomeia os eixos\n",
    "        plt.xlabel('Caracteres')\n",
    "        plt.ylabel('Frequência')\n",
    "        \n",
    "        #Plota o gráfico\n",
    "        plt.bar(x_axis, y_axis)\n",
    "        \n",
    "    def replace_kbs(self, input_data,value = None,inplace=False):\n",
    "        \"\"\" \n",
    "        Parâmetros:\n",
    "        dataframe: dataframe pandas do qual os keyboard smashing vão ser substituidos.\n",
    "        value: string que vai substituir os keyboard smashings, caso seja uma string vazia as linhas que apresentarem kbs serão removidas do dataframe\n",
    "        inplace: se as substituições serão feitas no próprio dataframe dos parâmetros (True) ou será retornada uma cópia do df (False)\n",
    "        \"\"\" \n",
    "        if value == None:\n",
    "                value = \"itskbs\"\n",
    "        \n",
    "        \"\"\" \n",
    "        Se o tipo de entrada for um dataframe pandas, a função __dataframe é chamada para fazer o tratamento\n",
    "        \"\"\"\n",
    "        if type(input_data) == pd.DataFrame:\n",
    "            #df = input_data.copy()\n",
    "            df = input_data\n",
    "            if inplace == True:\n",
    "                df = input_data.copy(deep=False)\n",
    "            \n",
    "            return self.__dataframe(df, value)\n",
    "        \n",
    "        \"\"\" \n",
    "        Se o tipo de entrada for uma lista ou uma string de palavras, a função __listOrString é chamada\n",
    "        \"\"\"\n",
    "        if (type(input_data) == str or type(input_data) == list):\n",
    "              \n",
    "            return self.__listOrString(input_data, value)\n",
    "        \n",
    "    def __dataframe(self,df, value):\n",
    "        wordskbs = []\n",
    "        nRow = df.shape[0]\n",
    "        nCol = df.shape[1]\n",
    "        for row in range(nRow):\n",
    "            for col in range(nCol):\n",
    "                wordskbs = self.is_sent_kbs(df.iloc[row, col])\n",
    "                if(len(wordskbs)!=0):\n",
    "                    df.iloc[row, col] = value\n",
    "                if(df.iloc[row, col] == \"itskbs\"):\n",
    "                    df = df.drop(row)\n",
    "        return df\n",
    "    \n",
    "    def __listOrString(self, input_data, value):\n",
    "        isList = True\n",
    "        if (type(input_data) != list):\n",
    "            isList = False\n",
    "            input_data = input_data.split()\n",
    "        \n",
    "        wordskbs = self.is_sent_kbs(input_data)\n",
    "        \n",
    "        end = len(input_data) - 1\n",
    "        for i in range(0,end,1):\n",
    "            if(input_data[i] in wordskbs):\n",
    "                if(value != 'itskbs'):\n",
    "                    input_data[i] = value\n",
    "                else:\n",
    "                    del input_data[i]\n",
    "                    end-=end\n",
    "        \n",
    "        if(isList == False):\n",
    "            input_data = ' '.join(input_data)\n",
    "            \n",
    "        return input_data\n",
    "            "
   ]
  },
  {
   "cell_type": "code",
   "execution_count": 1093,
   "metadata": {},
   "outputs": [],
   "source": [
    "#Inicia objeto\n",
    "# teste = isitkbs(model=\"randomforest\")\n",
    "teste = isitkbs(model=\"naivebayes\")"
   ]
  },
  {
   "cell_type": "code",
   "execution_count": 1094,
   "metadata": {},
   "outputs": [
    {
     "data": {
      "text/plain": [
       "1"
      ]
     },
     "execution_count": 1094,
     "metadata": {},
     "output_type": "execute_result"
    }
   ],
   "source": [
    "teste.is_word_kbs('ahduawfs')"
   ]
  },
  {
   "cell_type": "code",
   "execution_count": 1095,
   "metadata": {},
   "outputs": [
    {
     "data": {
      "text/plain": [
       "['aspdo', 'asocjn']"
      ]
     },
     "execution_count": 1095,
     "metadata": {},
     "output_type": "execute_result"
    }
   ],
   "source": [
    "teste.is_sent_kbs('aspdo asocjn')"
   ]
  },
  {
   "cell_type": "code",
   "execution_count": 1096,
   "metadata": {},
   "outputs": [
    {
     "data": {
      "text/plain": [
       "{'a': 2, 'b': 3, 's': 1, 't': 2, 'w': 1}"
      ]
     },
     "execution_count": 1096,
     "metadata": {},
     "output_type": "execute_result"
    },
    {
     "data": {
      "image/png": "[encoded data removed]",
      "text/plain": [
       "<Figure size 640x480 with 1 Axes>"
      ]
     },
     "metadata": {},
     "output_type": "display_data"
    }
   ],
   "source": [
    "teste.freqkbs('This is awruhvbbara tawbbbast teste', graph=1)"
   ]
  },
  {
   "cell_type": "code",
   "execution_count": 1097,
   "metadata": {},
   "outputs": [
    {
     "data": {
      "text/html": [
       "<div>\n",
       "<style scoped>\n",
       "    .dataframe tbody tr th:only-of-type {\n",
       "        vertical-align: middle;\n",
       "    }\n",
       "\n",
       "    .dataframe tbody tr th {\n",
       "        vertical-align: top;\n",
       "    }\n",
       "\n",
       "    .dataframe thead th {\n",
       "        text-align: right;\n",
       "    }\n",
       "</style>\n",
       "<table border=\"1\" class=\"dataframe\">\n",
       "  <thead>\n",
       "    <tr style=\"text-align: right;\">\n",
       "      <th></th>\n",
       "      <th>data</th>\n",
       "      <th>data2</th>\n",
       "    </tr>\n",
       "  </thead>\n",
       "  <tbody>\n",
       "    <tr>\n",
       "      <th>0</th>\n",
       "      <td>Douglas</td>\n",
       "      <td>none</td>\n",
       "    </tr>\n",
       "    <tr>\n",
       "      <th>1</th>\n",
       "      <td>test</td>\n",
       "      <td>name</td>\n",
       "    </tr>\n",
       "    <tr>\n",
       "      <th>2</th>\n",
       "      <td>oixcjoa</td>\n",
       "      <td>aklksda</td>\n",
       "    </tr>\n",
       "    <tr>\n",
       "      <th>3</th>\n",
       "      <td>thought</td>\n",
       "      <td>zzzzzz</td>\n",
       "    </tr>\n",
       "    <tr>\n",
       "      <th>4</th>\n",
       "      <td>interesting</td>\n",
       "      <td>exception</td>\n",
       "    </tr>\n",
       "    <tr>\n",
       "      <th>5</th>\n",
       "      <td>kjadlsjda</td>\n",
       "      <td>optional</td>\n",
       "    </tr>\n",
       "    <tr>\n",
       "      <th>6</th>\n",
       "      <td>world</td>\n",
       "      <td>bottle</td>\n",
       "    </tr>\n",
       "    <tr>\n",
       "      <th>7</th>\n",
       "      <td>aaaaaaa</td>\n",
       "      <td>piooijoj</td>\n",
       "    </tr>\n",
       "    <tr>\n",
       "      <th>8</th>\n",
       "      <td>vessel</td>\n",
       "      <td>mnfjisdh</td>\n",
       "    </tr>\n",
       "  </tbody>\n",
       "</table>\n",
       "</div>"
      ],
      "text/plain": [
       "          data      data2\n",
       "0      Douglas       none\n",
       "1         test       name\n",
       "2      oixcjoa    aklksda\n",
       "3      thought     zzzzzz\n",
       "4  interesting  exception\n",
       "5    kjadlsjda   optional\n",
       "6        world     bottle\n",
       "7      aaaaaaa   piooijoj\n",
       "8       vessel   mnfjisdh"
      ]
     },
     "execution_count": 1097,
     "metadata": {},
     "output_type": "execute_result"
    }
   ],
   "source": [
    "palavras = {\"data\":[\"Douglas\", \"test\", \"oixcjoa\", \"thought\", \"interesting\", \"kjadlsjda\", \"world\", \"aaaaaaa\", \"vessel\"], \"data2\":[\"none\", \"name\", \"aklksda\", \"zzzzzz\",\"exception\", \"optional\", \"bottle\", \"piooijoj\", \"mnfjisdh\"]}\n",
    "df = pd.DataFrame(palavras)\n",
    "df.head(10)"
   ]
  },
  {
   "cell_type": "code",
   "execution_count": 1102,
   "metadata": {},
   "outputs": [
    {
     "name": "stdout",
     "output_type": "stream",
     "text": [
      "I am your friend\n"
     ]
    }
   ],
   "source": [
    "texto = teste.replace_kbs('I am qweeqrsdaa friend', 'your')\n",
    "\n",
    "print(texto)"
   ]
  },
  {
   "cell_type": "code",
   "execution_count": 1107,
   "metadata": {},
   "outputs": [
    {
     "data": {
      "text/plain": [
       "'I am friend'"
      ]
     },
     "execution_count": 1107,
     "metadata": {},
     "output_type": "execute_result"
    }
   ],
   "source": [
    "teste.replace_kbs('I am wwirjjaa friend')"
   ]
  }
 ],
 "metadata": {
  "kernelspec": {
   "display_name": "Python 3",
   "language": "python",
   "name": "python3"
  },
  "language_info": {
   "codemirror_mode": {
    "name": "ipython",
    "version": 3
   },
   "file_extension": ".py",
   "mimetype": "text/x-python",
   "name": "python",
   "nbconvert_exporter": "python",
   "pygments_lexer": "ipython3",
   "version": "3.10.9"
  },
  "orig_nbformat": 4,
  "vscode": {
   "interpreter": {
    "hash": "5eb7aad773eb8eddaec1368e6d230dbbb4f1d15b0b8cde457cd53aaa63c8a0b5"
   }
  }
 },
 "nbformat": 4,
 "nbformat_minor": 2
}
