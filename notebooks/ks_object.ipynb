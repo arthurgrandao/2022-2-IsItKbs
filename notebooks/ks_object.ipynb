{
 "cells": [
  {
   "cell_type": "code",
   "execution_count": 6,
   "metadata": {},
   "outputs": [],
   "source": [
    "import pickle\n",
    "import os\n",
    "from nltk import everygrams, ngrams, word_tokenize, FreqDist\n",
    "\n",
    "#modelpath = os.path.join(os.path.dirname(os.path.dirname(__file__)), 'models/randomforest.pkl')\n",
    "#vectpath = os.path.join(os.path.dirname(os.path.dirname(__file__)), 'models/tfid_vectorizer.pkl')\n",
    "modelpath = os.path.dirname('../models/randomforest.pkl')\n",
    "vectpath = os.path.dirname('../models/tfid_vectorizer.pkl')"
   ]
  },
  {
   "cell_type": "code",
   "execution_count": 7,
   "metadata": {},
   "outputs": [],
   "source": [
    "#trained_model = pickle.load(open(modelpath, 'rb'))\n",
    "#vectorizer = pickle.load(open(vectpath, 'rb'))"
   ]
  },
  {
   "cell_type": "code",
   "execution_count": 8,
   "metadata": {},
   "outputs": [],
   "source": [
    "import matplotlib.pyplot as plt\n",
    "import re"
   ]
  },
  {
   "cell_type": "code",
   "execution_count": 9,
   "metadata": {},
   "outputs": [],
   "source": [
    "class isitkbs(object):\n",
    "    \n",
    "    def __init__(self, model = 'randomforest'):\n",
    "        self.model = model\n",
    "    #Especifica qual modelo deve ser utilizado\n",
    "    #Por padrão, usa-se o randomForest\n",
    "    \n",
    "    #Função para determinar se uma palavra é keyboardsmashing\n",
    "    #A entrada deve ser uma palavra\n",
    "    def is_word_kbs(self, input_data):\n",
    "        #input_data = self.input_data\n",
    "        \n",
    "        with open(f'../models/{self.model}.pkl', 'rb') as f:\n",
    "            trained_model = pickle.load(f)\n",
    "    \n",
    "        with open('../models/tfid_vectorizer.pkl', 'rb') as r:\n",
    "            vectorizer = pickle.load(r)\n",
    "        \n",
    "        if (len(input_data) == 1):\n",
    "            return 0\n",
    "        input_data = [input_data]\n",
    "        input_ngrams = []\n",
    "\n",
    "        for i in range(len(input_data)):\n",
    "            ngram = map(''.join, list(everygrams(input_data[i], 2, 4)))\n",
    "            input_ngrams.extend(ngram)\n",
    "\n",
    "        predprob = trained_model.predict_proba(\n",
    "            vectorizer.transform(input_ngrams))[:, 1]\n",
    "            \n",
    "        prob = sum(predprob)/len(input_ngrams)\n",
    "        if (prob >= 0.5):\n",
    "            return 1\n",
    "        else:\n",
    "            return 0\n",
    "    \n",
    "    #Função para determinar quais são os keyboard smashing em uma frase \n",
    "    #A entrada deve ser uma string ou uma lista de palavras    \n",
    "    def is_sent_kbs(self, input_data):\n",
    "        if(type(input_data) == list):\n",
    "            input_data = ' '.join(input_data)\n",
    "        \n",
    "        mashs = []\n",
    "        \n",
    "        if (len(input_data) == 1):\n",
    "            return mashs\n",
    "        \n",
    "        words = input_data.split()\n",
    "        \n",
    "        for word in words:\n",
    "            res = self.is_word_kbs(word)\n",
    "            if res == 1:\n",
    "                mashs.append(word)\n",
    "        \n",
    "        return mashs\n",
    "    \n",
    "    #Função que mostra a frequência de caracteres em keyboard smashing\n",
    "    #A entrada deve ser uma string ou uma lista de string\n",
    "    def freqkbs(self, input_data):\n",
    "        \n",
    "        cont_char = {}\n",
    "        if(type(input_data) == list):\n",
    "            input_data = ' '.join(input_data)\n",
    "        \n",
    "        data = self.is_sent_kbs(input_data)\n",
    "        data = ' '.join(data)\n",
    "        \n",
    "        if(len(data) != 0):\n",
    "            data = re.sub(r'[^\\w\\s]','',data)\n",
    "            sing_char = set(data)\n",
    "            \n",
    "            for i in sing_char:\n",
    "                cont_char[i] = data.count(i)\n",
    "            \n",
    "            cont_char = dict(sorted(cont_char.items()))\n",
    "            del cont_char[' ']\n",
    "            \n",
    "            #Determina eixo x e eixo y\n",
    "            x_axis = list(cont_char.keys())\n",
    "            y_axis = list(cont_char.values())\n",
    "            \n",
    "            #Nomeia os eixos\n",
    "            plt.xlabel('Caracteres')\n",
    "            plt.ylabel('Frequência')\n",
    "            \n",
    "            #Plota o gráfico\n",
    "            plt.bar(x_axis, y_axis)\n",
    "        \n",
    "        return cont_char\n",
    "            "
   ]
  },
  {
   "cell_type": "code",
   "execution_count": 10,
   "metadata": {},
   "outputs": [],
   "source": [
    "#Inicia objeto\n",
    "# teste = isitkbs(model=\"randomforest\")\n",
    "teste = isitkbs(model=\"naivebayes\")"
   ]
  },
  {
   "cell_type": "code",
   "execution_count": 11,
   "metadata": {},
   "outputs": [
    {
     "data": {
      "text/plain": [
       "1"
      ]
     },
     "execution_count": 11,
     "metadata": {},
     "output_type": "execute_result"
    }
   ],
   "source": [
    "teste.is_word_kbs('ahduawfs')"
   ]
  },
  {
   "cell_type": "code",
   "execution_count": 16,
   "metadata": {},
   "outputs": [
    {
     "data": {
      "text/plain": [
       "1"
      ]
     },
     "execution_count": 16,
     "metadata": {},
     "output_type": "execute_result"
    }
   ],
   "source": [
    "teste.is_word_kbs(input(\": \"))"
   ]
  },
  {
   "cell_type": "code",
   "execution_count": 228,
   "metadata": {},
   "outputs": [
    {
     "data": {
      "text/plain": [
       "['aspdo', 'asocjn']"
      ]
     },
     "execution_count": 228,
     "metadata": {},
     "output_type": "execute_result"
    }
   ],
   "source": [
    "teste.is_sent_kbs('aspdo asocjn')"
   ]
  },
  {
   "cell_type": "code",
   "execution_count": 229,
   "metadata": {},
   "outputs": [
    {
     "data": {
      "text/plain": [
       "{'a': 2, 'c': 1, 'd': 1, 'j': 1, 'n': 1, 'o': 2, 'p': 1, 's': 2}"
      ]
     },
     "execution_count": 229,
     "metadata": {},
     "output_type": "execute_result"
    },
    {
     "data": {
      "image/png": "[encoded data removed]",
      "text/plain": [
       "<Figure size 640x480 with 1 Axes>"
      ]
     },
     "metadata": {},
     "output_type": "display_data"
    }
   ],
   "source": [
    "teste.freqkbs('aspdo asocjn')"
   ]
  }
 ],
 "metadata": {
  "kernelspec": {
   "display_name": "Python 3",
   "language": "python",
   "name": "python3"
  },
  "language_info": {
   "codemirror_mode": {
    "name": "ipython",
    "version": 3
   },
   "file_extension": ".py",
   "mimetype": "text/x-python",
   "name": "python",
   "nbconvert_exporter": "python",
   "pygments_lexer": "ipython3",
   "version": "3.10.6 (main, Nov 14 2022, 16:10:14) [GCC 11.3.0]"
  },
  "orig_nbformat": 4,
  "vscode": {
   "interpreter": {
    "hash": "916dbcbb3f70747c44a77c7bcd40155683ae19c65e1c03b4aa3499c5328201f1"
   }
  }
 },
 "nbformat": 4,
 "nbformat_minor": 2
}
