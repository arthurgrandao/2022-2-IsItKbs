{
 "cells": [
  {
   "cell_type": "code",
   "execution_count": 6,
   "metadata": {},
   "outputs": [],
   "source": [
    "import pickle\n",
    "import os\n",
    "from nltk import everygrams, ngrams, word_tokenize, FreqDist\n",
    "\n",
    "#modelpath = os.path.join(os.path.dirname(os.path.dirname(__file__)), 'models/randomforest.pkl')\n",
    "#vectpath = os.path.join(os.path.dirname(os.path.dirname(__file__)), 'models/tfid_vectorizer.pkl')\n",
    "modelpath = os.path.dirname('../models/randomforest.pkl')\n",
    "vectpath = os.path.dirname('../models/tfid_vectorizer.pkl')\n"
   ]
  },
  {
   "cell_type": "code",
   "execution_count": 7,
   "metadata": {},
   "outputs": [],
   "source": [
    "#trained_model = pickle.load(open(modelpath, 'rb'))\n",
    "#vectorizer = pickle.load(open(vectpath, 'rb'))\n"
   ]
  },
  {
   "cell_type": "code",
   "execution_count": 8,
   "metadata": {},
   "outputs": [],
   "source": [
    "import matplotlib.pyplot as plt\n",
    "import re\n",
    "import pandas as pd\n",
    "import types\n"
   ]
  },
  {
   "attachments": {},
   "cell_type": "markdown",
   "metadata": {},
   "source": [
    "## Correções\n",
    "\n",
    "1. A correção deve ser feita em `replace_kbs()`. Deletar linhas que tenham 'itskbs' (de preferência sem ter q passar por todo o dataframe novamente)\n",
    "\n",
    "## 1\n",
    "\n",
    "### Exemplo de data frame\n",
    "\n",
    "| Exemplo             | Valor do exemplo |\n",
    "| ------------------- | ---------------- |\n",
    "| He is asazdz friend | eita             |\n",
    "| Hello               | i am aadsaz      |\n",
    "| Hi                  | test             |\n",
    "| Exemplo 4           | test             |\n",
    "\n",
    "`__dataframe()`: A função é chamada quando um dataframe é passado como parâmetro para `replace_kbs(input_data,value = None,inplace=False, just_word = False)`. Se **value = KBS**, a função deve ser capaz de retornar:\n",
    "\n",
    "- Se just_word = False:\n",
    "\n",
    "| Exemplo   | Valor do exemplo |\n",
    "| --------- | ---------------- |\n",
    "| KBS       | eita             |\n",
    "| Hello     | KBS              |\n",
    "| Hi        | test             |\n",
    "| Exemplo 4 | test             |\n",
    "\n",
    "- Se just_word = True:\n",
    "\n",
    "| Exemplo          | Valor do exemplo |\n",
    "| ---------------- | ---------------- |\n",
    "| He is KBS friend | eita             |\n",
    "| Hello            | i am KBS         |\n",
    "| Hi               | test             |\n",
    "| Exemplo 4        | test             |\n",
    "\n",
    "- Se value não é passado (**value = None**):\n",
    "  - Se just_word = False: A linha em questão é apagada\n",
    "\n",
    "| Exemplo   | Valor do exemplo |\n",
    "| --------- | ---------------- |\n",
    "| Hi        | test             |\n",
    "| Exemplo 4 | test             |\n",
    "\n",
    "- Se just_word = True: A palavra que é kbs é apagada\n",
    "\n",
    "| Exemplo      | Valor do exemplo |\n",
    "| ------------ | ---------------- |\n",
    "| He is friend | eita             |\n",
    "| Hello        | i am             |\n",
    "| Hi           | test             |\n",
    "| Exemplo 4    | test             |\n",
    "\n",
    "Isso não está acontecendo e pode ser observado executando:\n",
    "\n",
    "```python:\n",
    "palavras = {\"data\":[\"Douglas is a nice man\", \"my friend\", 54, \"thought\", \"interesting\", \"kjadlsjda\", \"world\", \"aaaaaaa\", \"vessel\"], \"data2\":[\"none\", \"name\", \"aklksda\", \"zzzzzz\",\"exception\", \"optional\", \"bottle\", \"piooijoj\", \"mnfjisdh\"]}\n",
    "df = pd.DataFrame(palavras)\n",
    "\n",
    "df_cpy = df\n",
    "\n",
    "df3 = teste.replace_kbs(df_cpy, 'KBS', False, True)\n",
    "\n",
    "displayy(df3)\n",
    "```\n"
   ]
  },
  {
   "cell_type": "code",
   "execution_count": 28,
   "metadata": {},
   "outputs": [],
   "source": [
    "class isitkbs(object):\n",
    "    \n",
    "    def __init__(self, model='randomforest'):\n",
    "        self.model = model\n",
    "    # Especifica qual modelo deve ser utilizado\n",
    "    # Por padrão, usa-se o randomForest\n",
    "\n",
    "    # Função para determinar se uma palavra é keyboardsmashing\n",
    "    # A entrada deve ser uma palavra\n",
    "    def is_word_kbs(self, input_data):\n",
    "        if not isinstance(input_data, str):\n",
    "            raise TypeError(\"input_data must be a string\")\n",
    "\n",
    "        with open(f'../models/{self.model}.pkl', 'rb') as f:\n",
    "            trained_model = pickle.load(f)\n",
    "\n",
    "        with open('../models/tfid_vectorizer.pkl', 'rb') as r:\n",
    "            vectorizer = pickle.load(r)\n",
    "\n",
    "        if (len(input_data) == 1):\n",
    "            return 0\n",
    "        input_data = [input_data]\n",
    "        input_ngrams = []\n",
    "\n",
    "        for i in range(len(input_data)):\n",
    "            ngram = map(''.join, list(everygrams(input_data[i], 2, 4)))\n",
    "            input_ngrams.extend(ngram)\n",
    "\n",
    "        predprob = trained_model.predict_proba(\n",
    "            vectorizer.transform(input_ngrams))[:, 1]\n",
    "\n",
    "        prob = sum(predprob)/len(input_ngrams)\n",
    "        if (prob >= 0.5):\n",
    "            return 1\n",
    "        else:\n",
    "            return 0\n",
    "\n",
    "    # Função para determinar quais são os keyboard smashing em uma frase\n",
    "    # A entrada deve ser uma string ou uma lista de palavras\n",
    "    def is_sent_kbs(self, input_data):\n",
    "        mashs = []\n",
    "\n",
    "        if type(input_data) != str and type(input_data) != list:\n",
    "            return mashs\n",
    "\n",
    "        try:\n",
    "            words = input_data.split()\n",
    "        except:\n",
    "            words = input_data\n",
    "\n",
    "        res = 0\n",
    "        for i in range(len(words)):\n",
    "            if type(words[i]) == str:\n",
    "                if ' ' in words[i]:\n",
    "                    mashs_partial = self.is_sent_kbs(words[i])\n",
    "                    mashs.append(mashs_partial)\n",
    "                else:\n",
    "                    res = self.is_word_kbs(words[i])\n",
    "            else:\n",
    "                continue\n",
    "            if res == 1:\n",
    "                mashs.append(words[i])\n",
    "\n",
    "        return mashs\n",
    "\n",
    "    # Função que mostra a frequência de caracteres em keyboard smashing\n",
    "    # A entrada deve ser uma string ou uma lista de string\n",
    "    def freqkbs(self, input_data, graph=0):\n",
    "\n",
    "        cont_char = {}\n",
    "\n",
    "        data = self.is_sent_kbs(input_data)\n",
    "        data = ' '.join(data)\n",
    "\n",
    "        if (len(data) != 0):\n",
    "            data = re.sub(r'[^\\w\\s]', '', data)\n",
    "            sing_char = set(data)\n",
    "\n",
    "            for i in sing_char:\n",
    "                cont_char[i] = data.count(i)\n",
    "\n",
    "            cont_char = dict(sorted(cont_char.items()))\n",
    "\n",
    "            try:\n",
    "                del cont_char[' ']\n",
    "            except:\n",
    "                pass\n",
    "\n",
    "            # Plota gráfico se graph = 1 na chamda da função\n",
    "            if (graph == 1):\n",
    "                self.__freqgraph(cont_char)\n",
    "\n",
    "        return cont_char\n",
    "\n",
    "    def __freqgraph(self, cont_char):\n",
    "        # Determina eixo x e eixo y\n",
    "        x_axis = list(cont_char.keys())\n",
    "        y_axis = list(cont_char.values())\n",
    "\n",
    "        # Nomeia os eixos\n",
    "        plt.xlabel('Caracteres')\n",
    "        plt.ylabel('Frequência')\n",
    "\n",
    "        # Plota o gráfico\n",
    "        plt.bar(x_axis, y_axis)\n",
    "\n",
    "    def replace_kbs(self, input_data, value=None, inplace=False, just_word=False):\n",
    "        \"\"\" \n",
    "        Parâmetros:\n",
    "        dataframe: dataframe pandas do qual os keyboard smashing vão ser substituidos.\n",
    "        value: string que vai substituir os keyboard smashings, caso seja uma string vazia as linhas que apresentarem kbs serão removidas do dataframe\n",
    "        inplace: se as substituições serão feitas no próprio dataframe dos parâmetros (True) ou será retornada uma cópia do df (False)\n",
    "        just_word: se False, a posição toda do dataframe é substituído por value, se True somente o kbs presente na posição é substituido\n",
    "        Ex: \"This isdas test\" -> \"KBS\" (just_word False)\n",
    "                              -> \"This KBS test\" (just_word True)\n",
    "        \"\"\"\n",
    "        value = value or \"itskbs\"\n",
    "\n",
    "        \"\"\" \n",
    "        Se o tipo de entrada for um dataframe pandas, a função __dataframe é chamada para fazer o tratamento\n",
    "        \"\"\"\n",
    "        if type(input_data) == pd.DataFrame:\n",
    "\n",
    "            df = input_data.copy(deep=False) if inplace else input_data.copy()\n",
    "            return self.__dataframe(df, value, just_word)\n",
    "\n",
    "        \"\"\" \n",
    "        Se o tipo de entrada for uma lista ou uma string de palavras, a função __listOrString é chamada\n",
    "        \"\"\"\n",
    "        if (type(input_data) == str or type(input_data) == list):\n",
    "            return self.__listOrString(input_data, value, just_word)\n",
    "\n",
    "    def __dataframe(self, df, value, just_word):\n",
    "        wordskbs = []\n",
    "        nRow = df.shape[0]\n",
    "        nCol = df.shape[1]\n",
    "        mashsIndex = []\n",
    "        for row in range(nRow):\n",
    "            for col in range(nCol):\n",
    "                wordskbs = self.is_sent_kbs(df.iloc[row, col])\n",
    "                if (len(wordskbs) != 0):\n",
    "                    if (just_word == False):\n",
    "                        mashsIndex.append(row)\n",
    "                    else:\n",
    "                        df.iloc[row, col] = self.replace_kbs(\n",
    "                            df.iloc[row, col], value)\n",
    "        df.drop(mashsIndex, axis=0, inplace=True)\n",
    "        df.reset_index(drop=True, inplace=True)\n",
    "        return df\n",
    "\n",
    "    def __listOrString(self, input_data, value, just_word):\n",
    "        isList = True\n",
    "        if (type(input_data) != list):\n",
    "            isList = False\n",
    "            input_data = input_data.split()\n",
    "\n",
    "        wordskbs = self.is_sent_kbs(input_data)\n",
    "        output_data = []\n",
    "        for i in input_data:\n",
    "            if ' ' in i:\n",
    "                sent = self.__listOrString(i, value, just_word)\n",
    "                if just_word:\n",
    "                    output_data.append(sent)\n",
    "                    continue\n",
    "                elif sent != i:\n",
    "                    output_data.append(value)\n",
    "                    continue\n",
    "            if (i not in wordskbs):\n",
    "                output_data.append(i)\n",
    "            elif (value != 'itskbs'):\n",
    "                output_data.append(value)\n",
    "\n",
    "        if (isList == False):\n",
    "            output_data = ' '.join(output_data)\n",
    "        return output_data\n"
   ]
  },
  {
   "cell_type": "code",
   "execution_count": 29,
   "metadata": {},
   "outputs": [],
   "source": [
    "# Inicia objeto\n",
    "# teste = isitkbs(model=\"randomforest\")\n",
    "teste = isitkbs(model=\"naivebayes\")\n"
   ]
  },
  {
   "cell_type": "code",
   "execution_count": 11,
   "metadata": {},
   "outputs": [
    {
     "data": {
      "text/plain": [
       "[['xxcxzaasd'], 'aspdj']"
      ]
     },
     "execution_count": 11,
     "metadata": {},
     "output_type": "execute_result"
    }
   ],
   "source": [
    "teste.is_sent_kbs([23, 'xxcxzaasd friend', 'Hi', 'aspdj'])\n"
   ]
  },
  {
   "cell_type": "code",
   "execution_count": 12,
   "metadata": {},
   "outputs": [
    {
     "data": {
      "text/plain": [
       "['aspdo', 'asocjn']"
      ]
     },
     "execution_count": 12,
     "metadata": {},
     "output_type": "execute_result"
    }
   ],
   "source": [
    "teste.is_sent_kbs('aspdo asocjn')\n"
   ]
  },
  {
   "cell_type": "code",
   "execution_count": 13,
   "metadata": {},
   "outputs": [
    {
     "data": {
      "text/plain": [
       "{'a': 4, 'b': 4, 'r': 2, 's': 1, 't': 2, 'u': 1, 'w': 3}"
      ]
     },
     "execution_count": 13,
     "metadata": {},
     "output_type": "execute_result"
    },
    {
     "data": {
      "image/png": "[encoded data removed]",
      "text/plain": [
       "<Figure size 432x288 with 1 Axes>"
      ]
     },
     "metadata": {
      "needs_background": "light"
     },
     "output_type": "display_data"
    }
   ],
   "source": [
    "teste.freqkbs('This is awrubwar tawbbbast teste', graph=1)\n"
   ]
  },
  {
   "cell_type": "code",
   "execution_count": 14,
   "metadata": {},
   "outputs": [
    {
     "data": {
      "text/plain": [
       "[]"
      ]
     },
     "execution_count": 14,
     "metadata": {},
     "output_type": "execute_result"
    }
   ],
   "source": [
    "teste.is_sent_kbs(\"Douglas is a nice man\")\n"
   ]
  },
  {
   "cell_type": "code",
   "execution_count": 26,
   "metadata": {},
   "outputs": [
    {
     "data": {
      "text/html": [
       "<div>\n",
       "<style scoped>\n",
       "    .dataframe tbody tr th:only-of-type {\n",
       "        vertical-align: middle;\n",
       "    }\n",
       "\n",
       "    .dataframe tbody tr th {\n",
       "        vertical-align: top;\n",
       "    }\n",
       "\n",
       "    .dataframe thead th {\n",
       "        text-align: right;\n",
       "    }\n",
       "</style>\n",
       "<table border=\"1\" class=\"dataframe\">\n",
       "  <thead>\n",
       "    <tr style=\"text-align: right;\">\n",
       "      <th></th>\n",
       "      <th>data</th>\n",
       "      <th>data2</th>\n",
       "    </tr>\n",
       "  </thead>\n",
       "  <tbody>\n",
       "    <tr>\n",
       "      <th>0</th>\n",
       "      <td>Douglas is a  xxassds</td>\n",
       "      <td>none</td>\n",
       "    </tr>\n",
       "    <tr>\n",
       "      <th>1</th>\n",
       "      <td>xxuszx friend</td>\n",
       "      <td>name</td>\n",
       "    </tr>\n",
       "    <tr>\n",
       "      <th>2</th>\n",
       "      <td>54</td>\n",
       "      <td>aklksda</td>\n",
       "    </tr>\n",
       "    <tr>\n",
       "      <th>3</th>\n",
       "      <td>thought</td>\n",
       "      <td>zzzzzz</td>\n",
       "    </tr>\n",
       "    <tr>\n",
       "      <th>4</th>\n",
       "      <td>interesting</td>\n",
       "      <td>exception</td>\n",
       "    </tr>\n",
       "    <tr>\n",
       "      <th>5</th>\n",
       "      <td>kjadlsjda</td>\n",
       "      <td>optional</td>\n",
       "    </tr>\n",
       "    <tr>\n",
       "      <th>6</th>\n",
       "      <td>world</td>\n",
       "      <td>bottle</td>\n",
       "    </tr>\n",
       "    <tr>\n",
       "      <th>7</th>\n",
       "      <td>aaaaaaa</td>\n",
       "      <td>piooijoj</td>\n",
       "    </tr>\n",
       "    <tr>\n",
       "      <th>8</th>\n",
       "      <td>vessel</td>\n",
       "      <td>mnfjisdh</td>\n",
       "    </tr>\n",
       "  </tbody>\n",
       "</table>\n",
       "</div>"
      ],
      "text/plain": [
       "                    data      data2\n",
       "0  Douglas is a  xxassds       none\n",
       "1          xxuszx friend       name\n",
       "2                     54    aklksda\n",
       "3                thought     zzzzzz\n",
       "4            interesting  exception\n",
       "5              kjadlsjda   optional\n",
       "6                  world     bottle\n",
       "7                aaaaaaa   piooijoj\n",
       "8                 vessel   mnfjisdh"
      ]
     },
     "execution_count": 26,
     "metadata": {},
     "output_type": "execute_result"
    }
   ],
   "source": [
    "palavras = {\"data\": [\"Douglas is a  xxassds\", \"xxuszx friend\", 54, \"thought\", \"interesting\", \"kjadlsjda\", \"world\", \"aaaaaaa\",\n",
    "                     \"vessel\"], \"data2\": [\"none\", \"name\", \"aklksda\", \"zzzzzz\", \"exception\", \"optional\", \"bottle\", \"piooijoj\", \"mnfjisdh\"]}\n",
    "df = pd.DataFrame(palavras)\n",
    "df\n"
   ]
  },
  {
   "cell_type": "code",
   "execution_count": 30,
   "metadata": {},
   "outputs": [
    {
     "data": {
      "text/html": [
       "<div>\n",
       "<style scoped>\n",
       "    .dataframe tbody tr th:only-of-type {\n",
       "        vertical-align: middle;\n",
       "    }\n",
       "\n",
       "    .dataframe tbody tr th {\n",
       "        vertical-align: top;\n",
       "    }\n",
       "\n",
       "    .dataframe thead th {\n",
       "        text-align: right;\n",
       "    }\n",
       "</style>\n",
       "<table border=\"1\" class=\"dataframe\">\n",
       "  <thead>\n",
       "    <tr style=\"text-align: right;\">\n",
       "      <th></th>\n",
       "      <th>data</th>\n",
       "      <th>data2</th>\n",
       "    </tr>\n",
       "  </thead>\n",
       "  <tbody>\n",
       "    <tr>\n",
       "      <th>0</th>\n",
       "      <td>interesting</td>\n",
       "      <td>exception</td>\n",
       "    </tr>\n",
       "    <tr>\n",
       "      <th>1</th>\n",
       "      <td>world</td>\n",
       "      <td>bottle</td>\n",
       "    </tr>\n",
       "  </tbody>\n",
       "</table>\n",
       "</div>"
      ],
      "text/plain": [
       "          data      data2\n",
       "0  interesting  exception\n",
       "1        world     bottle"
      ]
     },
     "metadata": {},
     "output_type": "display_data"
    }
   ],
   "source": [
    "# Substituir somente o kbs encontrado pela palavra APAGAR\n",
    "\n",
    "df2 = teste.replace_kbs(df, '', inplace=False, just_word=False)\n",
    "\n",
    "display(df2)\n"
   ]
  },
  {
   "cell_type": "code",
   "execution_count": 17,
   "metadata": {},
   "outputs": [
    {
     "data": {
      "text/html": [
       "<div>\n",
       "<style scoped>\n",
       "    .dataframe tbody tr th:only-of-type {\n",
       "        vertical-align: middle;\n",
       "    }\n",
       "\n",
       "    .dataframe tbody tr th {\n",
       "        vertical-align: top;\n",
       "    }\n",
       "\n",
       "    .dataframe thead th {\n",
       "        text-align: right;\n",
       "    }\n",
       "</style>\n",
       "<table border=\"1\" class=\"dataframe\">\n",
       "  <thead>\n",
       "    <tr style=\"text-align: right;\">\n",
       "      <th></th>\n",
       "      <th>data</th>\n",
       "      <th>data2</th>\n",
       "    </tr>\n",
       "  </thead>\n",
       "  <tbody>\n",
       "    <tr>\n",
       "      <th>4</th>\n",
       "      <td>interesting</td>\n",
       "      <td>exception</td>\n",
       "    </tr>\n",
       "    <tr>\n",
       "      <th>6</th>\n",
       "      <td>world</td>\n",
       "      <td>bottle</td>\n",
       "    </tr>\n",
       "  </tbody>\n",
       "</table>\n",
       "</div>"
      ],
      "text/plain": [
       "          data      data2\n",
       "4  interesting  exception\n",
       "6        world     bottle"
      ]
     },
     "execution_count": 17,
     "metadata": {},
     "output_type": "execute_result"
    }
   ],
   "source": [
    "# Apagar toda a linha que tenha um KBS (onde está itskbs)\n",
    "\n",
    "df5 = teste.replace_kbs(df)\n",
    "\n",
    "df5\n"
   ]
  },
  {
   "cell_type": "code",
   "execution_count": 18,
   "metadata": {},
   "outputs": [
    {
     "name": "stdout",
     "output_type": "stream",
     "text": [
      "I am your friend\n"
     ]
    }
   ],
   "source": [
    "# Substitui o KBS por your\n",
    "texto = teste.replace_kbs('I am qweeqrsdaa friend', 'your')\n",
    "\n",
    "print(texto)\n"
   ]
  },
  {
   "cell_type": "code",
   "execution_count": 19,
   "metadata": {},
   "outputs": [
    {
     "name": "stdout",
     "output_type": "stream",
     "text": [
      "I am friend\n"
     ]
    }
   ],
   "source": [
    "# Apaga o KBS da frase\n",
    "frase = teste.replace_kbs('I am wwirjjaa friend')\n",
    "\n",
    "print(frase)\n"
   ]
  },
  {
   "cell_type": "code",
   "execution_count": 20,
   "metadata": {},
   "outputs": [
    {
     "name": "stdout",
     "output_type": "stream",
     "text": [
      "['Hi', 'GoodDay', 'Hello']\n",
      "['Hi', 'Hello']\n"
     ]
    }
   ],
   "source": [
    "# Substitui uma palavra kbs por outra palavra\n",
    "sub_word = teste.replace_kbs(['Hi', 'Hwrssdsx', 'Hello'], 'GoodDay')\n",
    "\n",
    "# Deleta uma palavra kbs\n",
    "del_word = teste.replace_kbs(['Hi', 'Hwrssdsx', 'Hello'])\n",
    "\n",
    "print(sub_word)\n",
    "print(del_word)\n"
   ]
  },
  {
   "cell_type": "code",
   "execution_count": 21,
   "metadata": {},
   "outputs": [
    {
     "name": "stdout",
     "output_type": "stream",
     "text": [
      "['Hi', 'I am your friend', 'Hello']\n",
      "['Hi', 'your', 'Hello']\n"
     ]
    }
   ],
   "source": [
    "# Se uma lista é passada e contém uma frase, somente o kbs na frase é substituido\n",
    "sub_word_sent = teste.replace_kbs(\n",
    "    ['Hi', 'I am sdsaxcxz friend', 'Hello'], 'your', just_word=True)\n",
    "# Se uma lista é passada e contém uma frase, a frase é substituida se contém um  ou mais kbs\n",
    "sub_all_sent = teste.replace_kbs(\n",
    "    ['Hi', 'I am sdsaxcxz friend', 'Hello'], 'your', just_word=False)\n",
    "\n",
    "print(sub_word_sent)\n",
    "print(sub_all_sent)\n"
   ]
  },
  {
   "cell_type": "code",
   "execution_count": 22,
   "metadata": {},
   "outputs": [
    {
     "name": "stdout",
     "output_type": "stream",
     "text": [
      "['Hi', 'I am friend', 'Hello']\n",
      "['Hi', 'itskbs', 'Hello']\n"
     ]
    }
   ],
   "source": [
    "# Se uma lista é passada e contém uma frase, somente o kbs na frase é deletado\n",
    "del_word_sent = teste.replace_kbs(\n",
    "    ['Hi', 'I am sdsaxcxz friend', 'Hello'], just_word=True)\n",
    "# Se uma lista é passada e contém uma frase, a frase é deletada se contém um  ou mais kbs\n",
    "del_all_sent = teste.replace_kbs(\n",
    "    ['Hi', 'I am sdsaxcxz friend', 'Hello'], just_word=False)\n",
    "\n",
    "print(del_word_sent)\n",
    "print(del_all_sent)\n"
   ]
  }
 ],
 "metadata": {
  "kernelspec": {
   "display_name": "Python 3",
   "language": "python",
   "name": "python3"
  },
  "language_info": {
   "codemirror_mode": {
    "name": "ipython",
    "version": 3
   },
   "file_extension": ".py",
   "mimetype": "text/x-python",
   "name": "python",
   "nbconvert_exporter": "python",
   "pygments_lexer": "ipython3",
   "version": "3.10.2 (tags/v3.10.2:a58ebcc, Jan 17 2022, 14:12:15) [MSC v.1929 64 bit (AMD64)]"
  },
  "orig_nbformat": 4,
  "vscode": {
   "interpreter": {
    "hash": "38b444d0255ad8ae1b6474cf1705948d47c9a753211d06096071fba803b18e24"
   }
  }
 },
 "nbformat": 4,
 "nbformat_minor": 2
}
