{
 "cells": [
  {
   "cell_type": "code",
   "execution_count": 14,
   "metadata": {},
   "outputs": [
    {
     "name": "stdout",
     "output_type": "stream",
     "text": [
      "c:\\Users\\arthu\\Desktop\\MDS\\2022-2-Squad03\\data\\raw\\mashing.txt\n"
     ]
    }
   ],
   "source": [
    "import os\n",
    "\n",
    "os_path = os.path.dirname(os.path.abspath(''))\n",
    "print(os_path + \"\\\\data\\\\raw\\\\mashing.txt\")"
   ]
  },
  {
   "cell_type": "code",
   "execution_count": 15,
   "metadata": {},
   "outputs": [],
   "source": [
    "mashing = open(os_path + \"\\\\data\\\\raw\\\\mashing.txt\", 'a')\n",
    "naturals = open(os_path + \"\\\\data\\\\raw\\\\large-2014.txt\", 'a')"
   ]
  },
  {
   "cell_type": "code",
   "execution_count": 16,
   "metadata": {},
   "outputs": [],
   "source": [
    "add_text = input(\"Write what you want to add: \")\n",
    "choice = input(\"mashing or naturals? (M/N) \")\n",
    "\n",
    "if choice == \"M\":\n",
    "    text = add_text.replace(' ', '\\n')\n",
    "    mashing.write('\\n' + text)\n",
    "elif choice == \"N\":\n",
    "    naturals.write('\\n' + add_text)"
   ]
  }
 ],
 "metadata": {
  "kernelspec": {
   "display_name": "Python 3",
   "language": "python",
   "name": "python3"
  },
  "language_info": {
   "codemirror_mode": {
    "name": "ipython",
    "version": 3
   },
   "file_extension": ".py",
   "mimetype": "text/x-python",
   "name": "python",
   "nbconvert_exporter": "python",
   "pygments_lexer": "ipython3",
   "version": "3.11.0"
  },
  "orig_nbformat": 4,
  "vscode": {
   "interpreter": {
    "hash": "a39d81b61f9ce6a24f8f526befdd921f4c6667ad35f1e729c3a4277aa5c26a6d"
   }
  }
 },
 "nbformat": 4,
 "nbformat_minor": 2
}
